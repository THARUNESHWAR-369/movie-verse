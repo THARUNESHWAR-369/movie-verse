{
 "cells": [
  {
   "attachments": {},
   "cell_type": "markdown",
   "metadata": {},
   "source": [
    "## Overview and Data Description:\n",
    "* In this notebook, I will work on a 50,000 instance movie-data to perform sentiment analysis using two approaches.\n",
    "\n",
    "> * Using a pre-trained sentiment-analysis transformer-based model.\n",
    "        Using a classical Machine Learning classification model.\n",
    "* IMDB dataset is a dataset for binary sentiment classification with two columns named:\n",
    "\n",
    "> * review : for the text review message.\n",
    ">  * sentiment : as a label column classifies the review as either positive or negative.\n"
   ]
  },
  {
   "cell_type": "code",
   "execution_count": 32,
   "metadata": {},
   "outputs": [],
   "source": [
    "\n",
    "import pandas as pd\n",
    "import numpy as np\n",
    "import matplotlib.pyplot as plt\n",
    "import seaborn as sns\n",
    "\n",
    "from sklearn.feature_extraction.text import CountVectorizer\n",
    "from sklearn.naive_bayes import MultinomialNB\n",
    "from sklearn.linear_model import LogisticRegression\n",
    "from sklearn.ensemble import RandomForestClassifier\n",
    "from sklearn.tree import DecisionTreeClassifier\n",
    "from sklearn.metrics import f1_score, accuracy_score \n",
    "from sklearn.model_selection import train_test_split\n",
    "from sklearn.preprocessing import LabelEncoder\n",
    "\n",
    "import re\n",
    "\n",
    "from nltk.tokenize.toktok import ToktokTokenizer\n",
    "from nltk.corpus import stopwords\n",
    "from nltk.stem.porter import PorterStemmer\n",
    "\n",
    "sns.color_palette(\"husl\", 8)\n",
    "\n",
    "import warnings\n",
    "warnings.filterwarnings('ignore')"
   ]
  },
  {
   "cell_type": "code",
   "execution_count": 2,
   "metadata": {},
   "outputs": [],
   "source": [
    "df = pd.read_csv(\"../dataset/IMDB Dataset.csv\")"
   ]
  },
  {
   "cell_type": "code",
   "execution_count": 20,
   "metadata": {},
   "outputs": [],
   "source": [
    "#Tokenization of text\n",
    "tokenizer=ToktokTokenizer()\n",
    "#Setting English stopwords\n",
    "stopword_list=stopwords.words('english')"
   ]
  },
  {
   "attachments": {},
   "cell_type": "markdown",
   "metadata": {},
   "source": [
    "### General Exploration:\n",
    "* Here, I have did a quick general exploration, class-distribution visualization , and general cleaning ,\"I have payed attention not to do any detailed cleaning that may be wrong before train-test splitting\"."
   ]
  },
  {
   "cell_type": "code",
   "execution_count": 4,
   "metadata": {},
   "outputs": [
    {
     "name": "stdout",
     "output_type": "stream",
     "text": [
      "<class 'pandas.core.frame.DataFrame'>\n",
      "RangeIndex: 50000 entries, 0 to 49999\n",
      "Data columns (total 2 columns):\n",
      " #   Column     Non-Null Count  Dtype \n",
      "---  ------     --------------  ----- \n",
      " 0   review     50000 non-null  object\n",
      " 1   sentiment  50000 non-null  object\n",
      "dtypes: object(2)\n",
      "memory usage: 781.4+ KB\n"
     ]
    }
   ],
   "source": [
    "df.info()"
   ]
  },
  {
   "cell_type": "code",
   "execution_count": 5,
   "metadata": {},
   "outputs": [
    {
     "data": {
      "text/html": [
       "<div>\n",
       "<style scoped>\n",
       "    .dataframe tbody tr th:only-of-type {\n",
       "        vertical-align: middle;\n",
       "    }\n",
       "\n",
       "    .dataframe tbody tr th {\n",
       "        vertical-align: top;\n",
       "    }\n",
       "\n",
       "    .dataframe thead th {\n",
       "        text-align: right;\n",
       "    }\n",
       "</style>\n",
       "<table border=\"1\" class=\"dataframe\">\n",
       "  <thead>\n",
       "    <tr style=\"text-align: right;\">\n",
       "      <th></th>\n",
       "      <th>review</th>\n",
       "      <th>sentiment</th>\n",
       "    </tr>\n",
       "  </thead>\n",
       "  <tbody>\n",
       "    <tr>\n",
       "      <th>0</th>\n",
       "      <td>One of the other reviewers has mentioned that ...</td>\n",
       "      <td>positive</td>\n",
       "    </tr>\n",
       "    <tr>\n",
       "      <th>1</th>\n",
       "      <td>A wonderful little production. &lt;br /&gt;&lt;br /&gt;The...</td>\n",
       "      <td>positive</td>\n",
       "    </tr>\n",
       "    <tr>\n",
       "      <th>2</th>\n",
       "      <td>I thought this was a wonderful way to spend ti...</td>\n",
       "      <td>positive</td>\n",
       "    </tr>\n",
       "    <tr>\n",
       "      <th>3</th>\n",
       "      <td>Basically there's a family where a little boy ...</td>\n",
       "      <td>negative</td>\n",
       "    </tr>\n",
       "    <tr>\n",
       "      <th>4</th>\n",
       "      <td>Petter Mattei's \"Love in the Time of Money\" is...</td>\n",
       "      <td>positive</td>\n",
       "    </tr>\n",
       "  </tbody>\n",
       "</table>\n",
       "</div>"
      ],
      "text/plain": [
       "                                              review sentiment\n",
       "0  One of the other reviewers has mentioned that ...  positive\n",
       "1  A wonderful little production. <br /><br />The...  positive\n",
       "2  I thought this was a wonderful way to spend ti...  positive\n",
       "3  Basically there's a family where a little boy ...  negative\n",
       "4  Petter Mattei's \"Love in the Time of Money\" is...  positive"
      ]
     },
     "execution_count": 5,
     "metadata": {},
     "output_type": "execute_result"
    }
   ],
   "source": [
    "df.head()"
   ]
  },
  {
   "cell_type": "code",
   "execution_count": 6,
   "metadata": {},
   "outputs": [
    {
     "data": {
      "text/plain": [
       "\"One of the other reviewers has mentioned that after watching just 1 Oz episode you'll be hooked. They are right, as this is exactly what happened with me.<br /><br />The first thing that struck me about Oz was its brutality and unflinching scenes of violence, which set in right from the word GO. Trust me, this is not a show for the faint hearted or timid. This show pulls no punches with regards to drugs, sex or violence. Its is hardcore, in the classic use of the word.<br /><br />It is called OZ as that is the nickname given to the Oswald Maximum Security State Penitentary. It focuses mainly on Emerald City, an experimental section of the prison where all the cells have glass fronts and face inwards, so privacy is not high on the agenda. Em City is home to many..Aryans, Muslims, gangstas, Latinos, Christians, Italians, Irish and more....so scuffles, death stares, dodgy dealings and shady agreements are never far away.<br /><br />I would say the main appeal of the show is due to the fact that it goes where other shows wouldn't dare. Forget pretty pictures painted for mainstream audiences, forget charm, forget romance...OZ doesn't mess around. The first episode I ever saw struck me as so nasty it was surreal, I couldn't say I was ready for it, but as I watched more, I developed a taste for Oz, and got accustomed to the high levels of graphic violence. Not just violence, but injustice (crooked guards who'll be sold out for a nickel, inmates who'll kill on order and get away with it, well mannered, middle class inmates being turned into prison bitches due to their lack of street skills or prison experience) Watching Oz, you may become comfortable with what is uncomfortable viewing....thats if you can get in touch with your darker side.\""
      ]
     },
     "execution_count": 6,
     "metadata": {},
     "output_type": "execute_result"
    }
   ],
   "source": [
    "df['review'][0]"
   ]
  },
  {
   "cell_type": "code",
   "execution_count": 7,
   "metadata": {},
   "outputs": [
    {
     "data": {
      "text/plain": [
       "418"
      ]
     },
     "execution_count": 7,
     "metadata": {},
     "output_type": "execute_result"
    }
   ],
   "source": [
    "df['review'].duplicated().sum()"
   ]
  },
  {
   "cell_type": "code",
   "execution_count": 8,
   "metadata": {},
   "outputs": [
    {
     "data": {
      "text/plain": [
       "0"
      ]
     },
     "execution_count": 8,
     "metadata": {},
     "output_type": "execute_result"
    }
   ],
   "source": [
    "df_new = df.drop_duplicates()\n",
    "df_new.duplicated().sum()"
   ]
  },
  {
   "cell_type": "code",
   "execution_count": 10,
   "metadata": {},
   "outputs": [
    {
     "data": {
      "image/png": "[encoded data removed]",
      "text/plain": [
       "<Figure size 640x480 with 1 Axes>"
      ]
     },
     "metadata": {},
     "output_type": "display_data"
    },
    {
     "data": {
      "image/png": "[encoded data removed]",
      "text/plain": [
       "<Figure size 640x480 with 1 Axes>"
      ]
     },
     "metadata": {},
     "output_type": "display_data"
    }
   ],
   "source": [
    "df['sentiment'].value_counts().plot.pie(explode=[0,0.1], autopct='%1.2f%%',shadow=True, startangle=300, colors = [\"#bcbddc\", \"#efedf5\"])\n",
    "plt.show()\n",
    "df_new['sentiment'].value_counts().plot.pie(explode=[0,0.1], autopct='%1.2f%%',shadow=True, startangle=300, colors = [\"#bcbddc\", \"#efedf5\"])\n",
    "plt.show()"
   ]
  },
  {
   "cell_type": "code",
   "execution_count": 13,
   "metadata": {},
   "outputs": [
    {
     "data": {
      "image/png": "[encoded data removed]",
      "text/plain": [
       "<Figure size 1200x400 with 2 Axes>"
      ]
     },
     "metadata": {},
     "output_type": "display_data"
    }
   ],
   "source": [
    "def prcentage_count_plot_comparison(col1, df1, col2, df2, mod):\n",
    "\n",
    "    \"\"\"\n",
    "    A function to compare the binary class column distribution before and after certain modification.\n",
    "        \n",
    "    Arguments:\n",
    "        col1: str | non-modified class column\n",
    "        df1 : pd.DataFrame | dataframe of the non-modified class column\n",
    "        col2: str | modified class column\n",
    "        df2 : pd.DataFrame | dataframe of the modified class column\n",
    "        mod : str | modification type\n",
    "\n",
    "    Returns:\n",
    "        Two axes plot of comparison.         \n",
    "    \"\"\"\n",
    "    \n",
    "    plt.figure(figsize = (12,4))\n",
    "\n",
    "    plt.subplot(121)\n",
    "    ax1 = sns.countplot(x = col1 , data =df1, palette=[\"#bcbddc\", \"#efedf5\"])\n",
    "    plt.title(f\"% Class before {mod}\",y=1.1)\n",
    "\n",
    "    plt.subplot(122)\n",
    "    ax2 = sns.countplot(x = col2 , data =df2, palette=[\"#bcbddc\", \"#efedf5\"])\n",
    "    plt.title(f\"% Class after {mod}\",y=1.1)\n",
    "\n",
    "\n",
    "\n",
    "    # Annotating the percentages:\n",
    "\n",
    "    for ax,dfs in zip([ax1, ax2],[df1, df2]):\n",
    "        for p in ax.patches:\n",
    "            height = p.get_height() - +20\n",
    "            width = p.get_width()\n",
    "            ax.text(\n",
    "                p.get_x() + width / 2.,\n",
    "                height,\n",
    "                f'{height / len(dfs) * 100:.1f}%',\n",
    "                ha=\"center\")\n",
    "\n",
    "\n",
    "\n",
    "    return plt.show()\n",
    "prcentage_count_plot_comparison(col1='sentiment', df1=df , col2='sentiment',df2=df_new, mod='removing duplicates')\n"
   ]
  },
  {
   "attachments": {},
   "cell_type": "markdown",
   "metadata": {},
   "source": [
    "### Data splitting and cleaning for modeling analysis:\n",
    "* 1. Shuffling & Train_Test_split:\n",
    " I didn't use the shuffling built-in parameter in train_test_split in order not to     exposed to index-change issues.\n"
   ]
  },
  {
   "attachments": {},
   "cell_type": "markdown",
   "metadata": {},
   "source": [
    "## Data Cleaning"
   ]
  },
  {
   "cell_type": "code",
   "execution_count": 16,
   "metadata": {},
   "outputs": [
    {
     "data": {
      "text/html": [
       "<div>\n",
       "<style scoped>\n",
       "    .dataframe tbody tr th:only-of-type {\n",
       "        vertical-align: middle;\n",
       "    }\n",
       "\n",
       "    .dataframe tbody tr th {\n",
       "        vertical-align: top;\n",
       "    }\n",
       "\n",
       "    .dataframe thead th {\n",
       "        text-align: right;\n",
       "    }\n",
       "</style>\n",
       "<table border=\"1\" class=\"dataframe\">\n",
       "  <thead>\n",
       "    <tr style=\"text-align: right;\">\n",
       "      <th></th>\n",
       "      <th>review</th>\n",
       "      <th>sentiment</th>\n",
       "    </tr>\n",
       "  </thead>\n",
       "  <tbody>\n",
       "    <tr>\n",
       "      <th>0</th>\n",
       "      <td>one review ha mention watch 1 oz episod hook r...</td>\n",
       "      <td>positive</td>\n",
       "    </tr>\n",
       "    <tr>\n",
       "      <th>1</th>\n",
       "      <td>wonder littl product film techniqu veri unassu...</td>\n",
       "      <td>positive</td>\n",
       "    </tr>\n",
       "    <tr>\n",
       "      <th>2</th>\n",
       "      <td>thought thi wa wonder way spend time hot summe...</td>\n",
       "      <td>positive</td>\n",
       "    </tr>\n",
       "    <tr>\n",
       "      <th>3</th>\n",
       "      <td>basic famili littl boy jake think zombi hi clo...</td>\n",
       "      <td>negative</td>\n",
       "    </tr>\n",
       "    <tr>\n",
       "      <th>4</th>\n",
       "      <td>petter mattei love time money visual stun film...</td>\n",
       "      <td>positive</td>\n",
       "    </tr>\n",
       "  </tbody>\n",
       "</table>\n",
       "</div>"
      ],
      "text/plain": [
       "                                              review sentiment\n",
       "0  one review ha mention watch 1 oz episod hook r...  positive\n",
       "1  wonder littl product film techniqu veri unassu...  positive\n",
       "2  thought thi wa wonder way spend time hot summe...  positive\n",
       "3  basic famili littl boy jake think zombi hi clo...  negative\n",
       "4  petter mattei love time money visual stun film...  positive"
      ]
     },
     "execution_count": 16,
     "metadata": {},
     "output_type": "execute_result"
    }
   ],
   "source": [
    "class DataCleaning:\n",
    "    \n",
    "    replace_list = {r\"i'm\": 'i am',\n",
    "                r\"'re\": ' are',\n",
    "                r\"let's\": 'let us',\n",
    "                r\"'s\":  ' is',\n",
    "                r\"'ve\": ' have',\n",
    "                r\"can't\": 'can not',\n",
    "                r\"cannot\": 'can not',\n",
    "                r\"don't\" : 'do not',\n",
    "                r\"n't\": ' not',\n",
    "                r\"'d\": ' would',\n",
    "                r\"'ll\": ' will',\n",
    "                r\"=\" : ' ',\n",
    "                r'<br />': ' ',\n",
    "                r\"\\.+\" : '.',\n",
    "                r'\\!+': ' ',\n",
    "                r'\\?+': ' ',\n",
    "                r'\\s+': ' '\n",
    "                }\n",
    "    \n",
    "    def convert_normal_form(self, text : str) -> str:\n",
    "        for i in self.replace_list:\n",
    "            text = text.replace(i,self.replace_list[i])\n",
    "        return text\n",
    "    \n",
    "    # Remove special characters\n",
    "    def remove_special_characters(self, text : str) -> str:\n",
    "        pattern=r'[^a-zA-z0-9\\s]'\n",
    "        text=re.sub(pattern,'',text)\n",
    "        return text\n",
    "    \n",
    "    # Stemming\n",
    "    def stemmer(self, text : str) -> str:\n",
    "        ps=PorterStemmer()\n",
    "        text= ' '.join([ps.stem(word) for word in text.split()])\n",
    "        return text\n",
    "    \n",
    "    # Removing the stopwords\n",
    "    def remove_stopwords(self, text : str) -> str:\n",
    "        tokens = tokenizer.tokenize(text)\n",
    "        tokens = [token.strip() for token in tokens]\n",
    "        filtered_tokens = [token for token in tokens if token.lower() not in stopword_list]\n",
    "        filtered_text = ' '.join(filtered_tokens)    \n",
    "        return filtered_text\n",
    "    \n",
    "    def denoise_text(self, text : str) -> str:\n",
    "        text = self.convert_normal_form(text)\n",
    "        text = self.remove_special_characters(text)\n",
    "        text = self.stemmer(text)\n",
    "        text = self.remove_stopwords(text)\n",
    "        return text\n",
    "    \n",
    "data_cleaning = DataCleaning()\n",
    "\n",
    "df_new['review'] = df_new['review'].apply(lambda x : data_cleaning.denoise_text(x))\n",
    "df_new.head()\n",
    "    "
   ]
  },
  {
   "cell_type": "code",
   "execution_count": 21,
   "metadata": {},
   "outputs": [
    {
     "data": {
      "text/html": [
       "<div>\n",
       "<style scoped>\n",
       "    .dataframe tbody tr th:only-of-type {\n",
       "        vertical-align: middle;\n",
       "    }\n",
       "\n",
       "    .dataframe tbody tr th {\n",
       "        vertical-align: top;\n",
       "    }\n",
       "\n",
       "    .dataframe thead th {\n",
       "        text-align: right;\n",
       "    }\n",
       "</style>\n",
       "<table border=\"1\" class=\"dataframe\">\n",
       "  <thead>\n",
       "    <tr style=\"text-align: right;\">\n",
       "      <th></th>\n",
       "      <th>review</th>\n",
       "      <th>sentiment</th>\n",
       "    </tr>\n",
       "  </thead>\n",
       "  <tbody>\n",
       "    <tr>\n",
       "      <th>0</th>\n",
       "      <td>rent thi todayheard lot good review beforehand...</td>\n",
       "      <td>negative</td>\n",
       "    </tr>\n",
       "    <tr>\n",
       "      <th>1</th>\n",
       "      <td>thi film wa strongli recommend friend great fa...</td>\n",
       "      <td>negative</td>\n",
       "    </tr>\n",
       "    <tr>\n",
       "      <th>2</th>\n",
       "      <td>branagh one understand differ film play hamlet...</td>\n",
       "      <td>positive</td>\n",
       "    </tr>\n",
       "    <tr>\n",
       "      <th>3</th>\n",
       "      <td>thi excel film aerial scene welldon wa also ri...</td>\n",
       "      <td>positive</td>\n",
       "    </tr>\n",
       "    <tr>\n",
       "      <th>4</th>\n",
       "      <td>hello wa alanrickmaniac im still crazyhol wa a...</td>\n",
       "      <td>positive</td>\n",
       "    </tr>\n",
       "    <tr>\n",
       "      <th>...</th>\n",
       "      <td>...</td>\n",
       "      <td>...</td>\n",
       "    </tr>\n",
       "    <tr>\n",
       "      <th>49577</th>\n",
       "      <td>believ thi kind filth seriou theme total unrea...</td>\n",
       "      <td>negative</td>\n",
       "    </tr>\n",
       "    <tr>\n",
       "      <th>49578</th>\n",
       "      <td>thi onli pauli shore movi ever see ok onli one...</td>\n",
       "      <td>positive</td>\n",
       "    </tr>\n",
       "    <tr>\n",
       "      <th>49579</th>\n",
       "      <td>last time laugh thi much testament talent rowa...</td>\n",
       "      <td>positive</td>\n",
       "    </tr>\n",
       "    <tr>\n",
       "      <th>49580</th>\n",
       "      <td>offend critic follow thi film mention origin t...</td>\n",
       "      <td>negative</td>\n",
       "    </tr>\n",
       "    <tr>\n",
       "      <th>49581</th>\n",
       "      <td>thi rever studi film classic among hitchcock m...</td>\n",
       "      <td>positive</td>\n",
       "    </tr>\n",
       "  </tbody>\n",
       "</table>\n",
       "<p>49582 rows × 2 columns</p>\n",
       "</div>"
      ],
      "text/plain": [
       "                                                  review sentiment\n",
       "0      rent thi todayheard lot good review beforehand...  negative\n",
       "1      thi film wa strongli recommend friend great fa...  negative\n",
       "2      branagh one understand differ film play hamlet...  positive\n",
       "3      thi excel film aerial scene welldon wa also ri...  positive\n",
       "4      hello wa alanrickmaniac im still crazyhol wa a...  positive\n",
       "...                                                  ...       ...\n",
       "49577  believ thi kind filth seriou theme total unrea...  negative\n",
       "49578  thi onli pauli shore movi ever see ok onli one...  positive\n",
       "49579  last time laugh thi much testament talent rowa...  positive\n",
       "49580  offend critic follow thi film mention origin t...  negative\n",
       "49581  thi rever studi film classic among hitchcock m...  positive\n",
       "\n",
       "[49582 rows x 2 columns]"
      ]
     },
     "execution_count": 21,
     "metadata": {},
     "output_type": "execute_result"
    }
   ],
   "source": [
    "# shuffling the data:\n",
    "\n",
    "np.random.seed(22)\n",
    "shuffled_indices = np.random.permutation(df_new.index)\n",
    "shuffled_df = df_new.loc[shuffled_indices].reset_index(drop=True)\n",
    "shuffled_df"
   ]
  },
  {
   "attachments": {},
   "cell_type": "markdown",
   "metadata": {},
   "source": [
    "## Splitting into train-validate-test:"
   ]
  },
  {
   "cell_type": "code",
   "execution_count": 22,
   "metadata": {},
   "outputs": [
    {
     "name": "stdout",
     "output_type": "stream",
     "text": [
      " % train_data:           70.00 % \n",
      " % validatoin_data:      20.00 % \n",
      " % test_data:            10.00 % \n",
      "\n"
     ]
    }
   ],
   "source": [
    "x = shuffled_df[['review']]\n",
    "y = shuffled_df['sentiment']\n",
    "x_train, x_test, y_train, y_test = train_test_split(x, y, random_state= 22,\n",
    "                                                    shuffle=False, test_size=0.1)\n",
    "\n",
    "x_train, x_valid, y_train, y_valid = train_test_split(x_train, y_train,\n",
    "                                                      random_state=22,\n",
    "                                                      shuffle=False, test_size=0.2222)\n",
    "\n",
    "\n",
    "print(f\" % train_data: {100*len(x_train)/len(shuffled_df):15.2f} %\", \"\\n\",\n",
    "      f\"% validatoin_data: {100*len(x_valid)/len(shuffled_df):10.2f} %\", \"\\n\",\n",
    "      f\"% test_data: {100*len(x_test)/len(shuffled_df):16.2f} %\", \"\\n\")"
   ]
  },
  {
   "cell_type": "code",
   "execution_count": 23,
   "metadata": {},
   "outputs": [
    {
     "data": {
      "text/plain": [
       "((34707, 1), (34707,))"
      ]
     },
     "execution_count": 23,
     "metadata": {},
     "output_type": "execute_result"
    }
   ],
   "source": [
    "x_train.shape , y_train.shape"
   ]
  },
  {
   "cell_type": "code",
   "execution_count": 24,
   "metadata": {},
   "outputs": [
    {
     "data": {
      "text/html": [
       "<div>\n",
       "<style scoped>\n",
       "    .dataframe tbody tr th:only-of-type {\n",
       "        vertical-align: middle;\n",
       "    }\n",
       "\n",
       "    .dataframe tbody tr th {\n",
       "        vertical-align: top;\n",
       "    }\n",
       "\n",
       "    .dataframe thead th {\n",
       "        text-align: right;\n",
       "    }\n",
       "</style>\n",
       "<table border=\"1\" class=\"dataframe\">\n",
       "  <thead>\n",
       "    <tr style=\"text-align: right;\">\n",
       "      <th></th>\n",
       "      <th>review</th>\n",
       "      <th>sentiment</th>\n",
       "    </tr>\n",
       "  </thead>\n",
       "  <tbody>\n",
       "    <tr>\n",
       "      <th>0</th>\n",
       "      <td>rent thi todayheard lot good review beforehand...</td>\n",
       "      <td>negative</td>\n",
       "    </tr>\n",
       "    <tr>\n",
       "      <th>1</th>\n",
       "      <td>thi film wa strongli recommend friend great fa...</td>\n",
       "      <td>negative</td>\n",
       "    </tr>\n",
       "    <tr>\n",
       "      <th>2</th>\n",
       "      <td>branagh one understand differ film play hamlet...</td>\n",
       "      <td>positive</td>\n",
       "    </tr>\n",
       "    <tr>\n",
       "      <th>3</th>\n",
       "      <td>thi excel film aerial scene welldon wa also ri...</td>\n",
       "      <td>positive</td>\n",
       "    </tr>\n",
       "    <tr>\n",
       "      <th>4</th>\n",
       "      <td>hello wa alanrickmaniac im still crazyhol wa a...</td>\n",
       "      <td>positive</td>\n",
       "    </tr>\n",
       "    <tr>\n",
       "      <th>...</th>\n",
       "      <td>...</td>\n",
       "      <td>...</td>\n",
       "    </tr>\n",
       "    <tr>\n",
       "      <th>34702</th>\n",
       "      <td>im sorri say thi act thi film horribl dialogu ...</td>\n",
       "      <td>negative</td>\n",
       "    </tr>\n",
       "    <tr>\n",
       "      <th>34703</th>\n",
       "      <td>onc life mean onc hoodlum alway hoodlum nobodi...</td>\n",
       "      <td>positive</td>\n",
       "    </tr>\n",
       "    <tr>\n",
       "      <th>34704</th>\n",
       "      <td>movi act bad jay hernandez doe good job play c...</td>\n",
       "      <td>negative</td>\n",
       "    </tr>\n",
       "    <tr>\n",
       "      <th>34705</th>\n",
       "      <td>howev ladi age lap doubt least opposit sex und...</td>\n",
       "      <td>negative</td>\n",
       "    </tr>\n",
       "    <tr>\n",
       "      <th>34706</th>\n",
       "      <td>basi thi dynam docudrama true stori one extrao...</td>\n",
       "      <td>positive</td>\n",
       "    </tr>\n",
       "  </tbody>\n",
       "</table>\n",
       "<p>34707 rows × 2 columns</p>\n",
       "</div>"
      ],
      "text/plain": [
       "                                                  review sentiment\n",
       "0      rent thi todayheard lot good review beforehand...  negative\n",
       "1      thi film wa strongli recommend friend great fa...  negative\n",
       "2      branagh one understand differ film play hamlet...  positive\n",
       "3      thi excel film aerial scene welldon wa also ri...  positive\n",
       "4      hello wa alanrickmaniac im still crazyhol wa a...  positive\n",
       "...                                                  ...       ...\n",
       "34702  im sorri say thi act thi film horribl dialogu ...  negative\n",
       "34703  onc life mean onc hoodlum alway hoodlum nobodi...  positive\n",
       "34704  movi act bad jay hernandez doe good job play c...  negative\n",
       "34705  howev ladi age lap doubt least opposit sex und...  negative\n",
       "34706  basi thi dynam docudrama true stori one extrao...  positive\n",
       "\n",
       "[34707 rows x 2 columns]"
      ]
     },
     "execution_count": 24,
     "metadata": {},
     "output_type": "execute_result"
    }
   ],
   "source": [
    "train_df = pd.concat([x_train,y_train],axis =1).reset_index(drop = True)\n",
    "valid_df = pd.concat([x_valid,y_valid],axis =1).reset_index(drop = True)\n",
    "\n",
    "train_df"
   ]
  },
  {
   "cell_type": "code",
   "execution_count": 26,
   "metadata": {},
   "outputs": [
    {
     "data": {
      "text/plain": [
       "0        rent thi todayheard lot good review beforehand...\n",
       "1        thi film wa strongli recommend friend great fa...\n",
       "2        branagh one understand differ film play hamlet...\n",
       "3        thi excel film aerial scene welldon wa also ri...\n",
       "4        hello wa alanrickmaniac im still crazyhol wa a...\n",
       "                               ...                        \n",
       "34702    im sorri say thi act thi film horribl dialogu ...\n",
       "34703    onc life mean onc hoodlum alway hoodlum nobodi...\n",
       "34704    movi act bad jay hernandez doe good job play c...\n",
       "34705    howev ladi age lap doubt least opposit sex und...\n",
       "34706    basi thi dynam docudrama true stori one extrao...\n",
       "Name: review, Length: 34707, dtype: object"
      ]
     },
     "execution_count": 26,
     "metadata": {},
     "output_type": "execute_result"
    }
   ],
   "source": [
    "cleaned_reviews_series = train_df['review']\n",
    "cleaned_reviews_series"
   ]
  },
  {
   "attachments": {},
   "cell_type": "markdown",
   "metadata": {},
   "source": [
    "## 3. Visualizing for more exploration:\n",
    "* I visualized each instance number of words as a histogram.\n",
    "* This visualization helped me in estimating the tokenization hyperparameter values like max_length based on a threshold."
   ]
  },
  {
   "cell_type": "code",
   "execution_count": 27,
   "metadata": {},
   "outputs": [
    {
     "name": "stdout",
     "output_type": "stream",
     "text": [
      "0        139\n",
      "1        109\n",
      "2         29\n",
      "3         24\n",
      "4        211\n",
      "        ... \n",
      "34702     95\n",
      "34703    158\n",
      "34704    142\n",
      "34705    108\n",
      "34706    226\n",
      "Name: review, Length: 34707, dtype: int64 \n",
      " \n",
      "max number of words is:  1222\n"
     ]
    }
   ],
   "source": [
    "num_words_series = cleaned_reviews_series.apply( lambda x: len(x.split()) )\n",
    "max_num_words = num_words_series.max() # serves as upper limit of my histogram plot.\n",
    "\n",
    "print(num_words_series, \"\\n \\n\" + \"max number of words is: \", max_num_words)"
   ]
  },
  {
   "cell_type": "code",
   "execution_count": 28,
   "metadata": {},
   "outputs": [],
   "source": [
    "def plotting_histogram_for_num_words(num_words_series, plot_threshold=False, threshold_val=0):\n",
    "    \"\"\"\n",
    "    A function to plot a histogram to show the frequency of occurence of word-counts in a text series.\n",
    "        \n",
    "    Arguments:\n",
    "        df1 : pd.Series | text Series to count the number of words in each of its instances. \n",
    "        plot_threshold : Boolean | whether to plot a threshold vertical line or not.\n",
    "        threshold : int | value to be used a threshold.\n",
    "        \n",
    "    Returns:\n",
    "        Histogram plot of the word_counts for each instance in the text Series.         \n",
    "    \"\"\"\n",
    "    plt.figure(figsize=(15,5))\n",
    "    bins = np.linspace(0, max_num_words , 20)\n",
    "\n",
    "    plt.hist(num_words_series, bins=bins, alpha=0.5, histtype='bar', ec='black')\n",
    "\n",
    "    plt.xticks(ticks=np.linspace(0,2500,num=20),rotation=90);\n",
    "    \n",
    "    threshold_title_substring = \"\"\n",
    "    if plot_threshold == True:\n",
    "        plt.axvline(x=int(threshold_val),linestyle='--',label ='Tokenizer-word-length threshold')\n",
    "        threshold_title_substring = \"with threshold\"\n",
    "        plt.legend()\n",
    "    \n",
    "    plt.title(f'Word-count for each review {threshold_title_substring}',fontsize=15)\n",
    "    plt.xlabel('Number of words',fontsize=10)\n",
    "    plt.ylabel('Frequency',fontsize=10)\n",
    "\n",
    "    return plt.show()"
   ]
  },
  {
   "cell_type": "code",
   "execution_count": 29,
   "metadata": {},
   "outputs": [
    {
     "data": {
      "image/png": "[encoded data removed]",
      "text/plain": [
       "<Figure size 1500x500 with 1 Axes>"
      ]
     },
     "metadata": {},
     "output_type": "display_data"
    }
   ],
   "source": [
    "plotting_histogram_for_num_words(num_words_series, plot_threshold=False)"
   ]
  },
  {
   "cell_type": "code",
   "execution_count": 30,
   "metadata": {},
   "outputs": [
    {
     "data": {
      "text/plain": [
       "array(['negative', 'positive'], dtype=object)"
      ]
     },
     "execution_count": 30,
     "metadata": {},
     "output_type": "execute_result"
    }
   ],
   "source": [
    "# Encoding the label column\n",
    "np.unique(y_train)"
   ]
  },
  {
   "cell_type": "code",
   "execution_count": 33,
   "metadata": {},
   "outputs": [
    {
     "name": "stdout",
     "output_type": "stream",
     "text": [
      "['negative' 'positive'] --> [0 1]\n"
     ]
    }
   ],
   "source": [
    "lbl_enc = LabelEncoder()\n",
    "lbl_enc.fit(y_train)\n",
    "y_train_enc = lbl_enc.transform(y_train)\n",
    "\n",
    "print(lbl_enc.classes_, \"-->\", lbl_enc.transform(lbl_enc.classes_))"
   ]
  },
  {
   "cell_type": "code",
   "execution_count": 35,
   "metadata": {},
   "outputs": [
    {
     "data": {
      "text/plain": [
       "(34707, 34707)"
      ]
     },
     "execution_count": 35,
     "metadata": {},
     "output_type": "execute_result"
    }
   ],
   "source": [
    "vectorizer = CountVectorizer(stop_words='english', max_features=int(df_new.shape[0] * 0.7)) \n",
    "x_train = vectorizer.fit_transform(cleaned_reviews_series)  # cleaned_reviews_series is the training_data after cleaning the text.\n",
    "y_train_enc = lbl_enc.transform(y_train)  # here we use transform not fit because we already fit this encoder previously on the same data\n",
    "x_train.shape  "
   ]
  },
  {
   "cell_type": "code",
   "execution_count": 38,
   "metadata": {},
   "outputs": [],
   "source": [
    "x_validation = vectorizer.transform(x_valid['review'])\n",
    "y_valid_enc = lbl_enc.transform(y_valid)"
   ]
  },
  {
   "cell_type": "code",
   "execution_count": 42,
   "metadata": {},
   "outputs": [],
   "source": [
    "y_test_enc = lbl_enc.transform(y_test)"
   ]
  },
  {
   "cell_type": "code",
   "execution_count": 43,
   "metadata": {},
   "outputs": [
    {
     "name": "stdout",
     "output_type": "stream",
     "text": [
      "CPU times: total: 375 ms\n",
      "Wall time: 1.92 s\n",
      "LogisticRegression Accuracy Score :  0.8791851553045583\n",
      "LogisticRegression F1 Score :  0.8791850373489335\n",
      "-----------------------------------------------------------------------\n",
      "CPU times: total: 0 ns\n",
      "Wall time: 14.2 ms\n",
      "MultinomialNB Accuracy Score :  0.849435256151674\n",
      "MultinomialNB F1 Score :  0.8493664403193598\n",
      "-----------------------------------------------------------------------\n",
      "CPU times: total: 2min 47s\n",
      "Wall time: 3min\n",
      "RandomForest Accuracy Score :  0.8554860830980234\n",
      "RandomForest F1 Score :  0.85548047002561\n",
      "-----------------------------------------------------------------------\n",
      "CPU times: total: 53.7 s\n",
      "Wall time: 1min\n",
      "DecisionTreeClassifier Accuracy Score :  0.7307382008874547\n",
      "DecisionTreeClassifier F1 Score :  0.7307359663151596\n",
      "-----------------------------------------------------------------------\n"
     ]
    }
   ],
   "source": [
    "models = []\n",
    "\n",
    "models.append(('LogisticRegression', LogisticRegression()))\n",
    "models.append(('MultinomialNB', MultinomialNB()))\n",
    "models.append(('RandomForest', RandomForestClassifier()))\n",
    "models.append(('DecisionTreeClassifier', DecisionTreeClassifier()))\n",
    "\n",
    "for name, model in models:\n",
    "    %time model.fit(x_train, y_train_enc)\n",
    "    test_pred = model.predict(x_validation)\n",
    "    print(name ,'Accuracy Score : ',accuracy_score(y_valid_enc, test_pred))\n",
    "    print(name ,'F1 Score : ',f1_score(y_valid_enc, test_pred, average='weighted'))\n",
    "    print('-----------------------------------------------------------------------')\n",
    "\n"
   ]
  },
  {
   "cell_type": "code",
   "execution_count": 44,
   "metadata": {},
   "outputs": [
    {
     "data": {
      "text/html": [
       "<style>#sk-container-id-1 {color: black;}#sk-container-id-1 pre{padding: 0;}#sk-container-id-1 div.sk-toggleable {background-color: white;}#sk-container-id-1 label.sk-toggleable__label {cursor: pointer;display: block;width: 100%;margin-bottom: 0;padding: 0.3em;box-sizing: border-box;text-align: center;}#sk-container-id-1 label.sk-toggleable__label-arrow:before {content: \"▸\";float: left;margin-right: 0.25em;color: #696969;}#sk-container-id-1 label.sk-toggleable__label-arrow:hover:before {color: black;}#sk-container-id-1 div.sk-estimator:hover label.sk-toggleable__label-arrow:before {color: black;}#sk-container-id-1 div.sk-toggleable__content {max-height: 0;max-width: 0;overflow: hidden;text-align: left;background-color: #f0f8ff;}#sk-container-id-1 div.sk-toggleable__content pre {margin: 0.2em;color: black;border-radius: 0.25em;background-color: #f0f8ff;}#sk-container-id-1 input.sk-toggleable__control:checked~div.sk-toggleable__content {max-height: 200px;max-width: 100%;overflow: auto;}#sk-container-id-1 input.sk-toggleable__control:checked~label.sk-toggleable__label-arrow:before {content: \"▾\";}#sk-container-id-1 div.sk-estimator input.sk-toggleable__control:checked~label.sk-toggleable__label {background-color: #d4ebff;}#sk-container-id-1 div.sk-label input.sk-toggleable__control:checked~label.sk-toggleable__label {background-color: #d4ebff;}#sk-container-id-1 input.sk-hidden--visually {border: 0;clip: rect(1px 1px 1px 1px);clip: rect(1px, 1px, 1px, 1px);height: 1px;margin: -1px;overflow: hidden;padding: 0;position: absolute;width: 1px;}#sk-container-id-1 div.sk-estimator {font-family: monospace;background-color: #f0f8ff;border: 1px dotted black;border-radius: 0.25em;box-sizing: border-box;margin-bottom: 0.5em;}#sk-container-id-1 div.sk-estimator:hover {background-color: #d4ebff;}#sk-container-id-1 div.sk-parallel-item::after {content: \"\";width: 100%;border-bottom: 1px solid gray;flex-grow: 1;}#sk-container-id-1 div.sk-label:hover label.sk-toggleable__label {background-color: #d4ebff;}#sk-container-id-1 div.sk-serial::before {content: \"\";position: absolute;border-left: 1px solid gray;box-sizing: border-box;top: 0;bottom: 0;left: 50%;z-index: 0;}#sk-container-id-1 div.sk-serial {display: flex;flex-direction: column;align-items: center;background-color: white;padding-right: 0.2em;padding-left: 0.2em;position: relative;}#sk-container-id-1 div.sk-item {position: relative;z-index: 1;}#sk-container-id-1 div.sk-parallel {display: flex;align-items: stretch;justify-content: center;background-color: white;position: relative;}#sk-container-id-1 div.sk-item::before, #sk-container-id-1 div.sk-parallel-item::before {content: \"\";position: absolute;border-left: 1px solid gray;box-sizing: border-box;top: 0;bottom: 0;left: 50%;z-index: -1;}#sk-container-id-1 div.sk-parallel-item {display: flex;flex-direction: column;z-index: 1;position: relative;background-color: white;}#sk-container-id-1 div.sk-parallel-item:first-child::after {align-self: flex-end;width: 50%;}#sk-container-id-1 div.sk-parallel-item:last-child::after {align-self: flex-start;width: 50%;}#sk-container-id-1 div.sk-parallel-item:only-child::after {width: 0;}#sk-container-id-1 div.sk-dashed-wrapped {border: 1px dashed gray;margin: 0 0.4em 0.5em 0.4em;box-sizing: border-box;padding-bottom: 0.4em;background-color: white;}#sk-container-id-1 div.sk-label label {font-family: monospace;font-weight: bold;display: inline-block;line-height: 1.2em;}#sk-container-id-1 div.sk-label-container {text-align: center;}#sk-container-id-1 div.sk-container {/* jupyter's `normalize.less` sets `[hidden] { display: none; }` but bootstrap.min.css set `[hidden] { display: none !important; }` so we also need the `!important` here to be able to override the default hidden behavior on the sphinx rendered scikit-learn.org. See: https://github.com/scikit-learn/scikit-learn/issues/21755 */display: inline-block !important;position: relative;}#sk-container-id-1 div.sk-text-repr-fallback {display: none;}</style><div id=\"sk-container-id-1\" class=\"sk-top-container\"><div class=\"sk-text-repr-fallback\"><pre>DecisionTreeClassifier()</pre><b>In a Jupyter environment, please rerun this cell to show the HTML representation or trust the notebook. <br />On GitHub, the HTML representation is unable to render, please try loading this page with nbviewer.org.</b></div><div class=\"sk-container\" hidden><div class=\"sk-item\"><div class=\"sk-estimator sk-toggleable\"><input class=\"sk-toggleable__control sk-hidden--visually\" id=\"sk-estimator-id-1\" type=\"checkbox\" checked><label for=\"sk-estimator-id-1\" class=\"sk-toggleable__label sk-toggleable__label-arrow\">DecisionTreeClassifier</label><div class=\"sk-toggleable__content\"><pre>DecisionTreeClassifier()</pre></div></div></div></div></div>"
      ],
      "text/plain": [
       "DecisionTreeClassifier()"
      ]
     },
     "execution_count": 44,
     "metadata": {},
     "output_type": "execute_result"
    }
   ],
   "source": [
    "lr_reg = LogisticRegression()\n",
    "lr_reg.fit(x_train, y_train_enc)\n",
    "\n",
    "nb_clf = MultinomialNB()\n",
    "nb_clf.fit(x_train, y_train_enc)\n",
    "\n",
    "rf_clf = RandomForestClassifier()\n",
    "rf_clf.fit(x_train, y_train_enc)\n",
    "\n",
    "dt_clf = DecisionTreeClassifier()\n",
    "dt_clf.fit(x_train, y_train_enc)"
   ]
  },
  {
   "cell_type": "code",
   "execution_count": 113,
   "metadata": {},
   "outputs": [],
   "source": [
    "\n",
    "def predict(text):\n",
    "    m = {1:\"Positive\", 0:\"Negative\"}\n",
    "    return m[lr_reg.predict(vectorizer.transform(np.array([data_cleaning.denoise_text(text)])))[0]]        \n",
    "    "
   ]
  },
  {
   "cell_type": "code",
   "execution_count": 114,
   "metadata": {},
   "outputs": [],
   "source": [
    "test_cases = {\n",
    "    \"Positive\" : [\n",
    "        \"Children are playing in the park.\",\n",
    "        \"Lissa has cooked some cookies.\",\n",
    "        \"They have planted the water already.\",\n",
    "        \"I was eating lunch when you arrived.\",\n",
    "        \"Brian is an engineer.\",\n",
    "        \"I will be watering the plants tomorrow morning.\",\n",
    "        \"The athletes are practicing so hard.\",\n",
    "        \"My mother is baking a chocolate cake.\",\n",
    "        \"The sun shines brightly in the morning.\",\n",
    "        \"Timothy will be staying at home.\",\n",
    "        \"The officer arrested the culprits.\"\n",
    "    ],\n",
    "    \"Negative\" : [\n",
    "        \"That isn't the way to Nashville.\",\n",
    "        \"They are not from Ecuador.\",\n",
    "        \"He wasn't eating white rice.\",\n",
    "        \"We were not sad when he moved away.\",\n",
    "        \"They don't practice yoga.\",\n",
    "        \"She did not like Bikhram yoga.\",\n",
    "        \"He doesn't have to commute to work.\",\n",
    "        \"They will not be joining us for dinner tonight.\",\n",
    "        \"She won't be attending the Met Gala this year.\",\n",
    "        \"These aren't pistachios.\",\n",
    "        \"They weren't playing poker.\"\n",
    "    ]\n",
    "}"
   ]
  },
  {
   "cell_type": "code",
   "execution_count": 116,
   "metadata": {},
   "outputs": [
    {
     "name": "stdout",
     "output_type": "stream",
     "text": [
      "\t\tACTUAL : Positive -> Positive\n",
      "**CORRECT PREDICTED(Positive) => 5         \n",
      "**WRONG PREDICTED(1) => 6 \n",
      "**Total => 11\n",
      "**************************************************\n",
      "\t\tACTUAL : Negative -> Negative\n",
      "**CORRECT PREDICTED(Negative) => 4         \n",
      "**WRONG PREDICTED(1) => 7 \n",
      "**Total => 11\n",
      "**************************************************\n"
     ]
    }
   ],
   "source": [
    "for tests in test_cases:\n",
    "    \n",
    "    actual = tests\n",
    "    print(f\"\\t\\tACTUAL : {tests} -> {actual}\")\n",
    "\n",
    "    crt_pred = 0\n",
    "    false_pred = 0\n",
    "    total = 0       \n",
    " \n",
    "    for text in test_cases[tests]:\n",
    "        pred = predict(text)\n",
    "        if pred == actual:crt_pred += 1\n",
    "        else : false_pred += 1\n",
    "        total += 1\n",
    "    print(f\"**CORRECT PREDICTED({actual}) => {crt_pred} \\\n",
    "        \\n**WRONG PREDICTED({0 if actual == 1 else 1}) => {false_pred} \\n**Total => {total}\")\n",
    "    print(\"*\" * 50)  \n",
    "        \n"
   ]
  },
  {
   "cell_type": "code",
   "execution_count": 118,
   "metadata": {},
   "outputs": [],
   "source": [
    "import pickle\n",
    "\n",
    "#pickle.dump(vectorizer, open(\"../models/sentiment_analyzer_vectorizer.pkl\", 'wb'))\n",
    "#pickle.dump(lbl_enc, open(\"../models/sentiment_analyzer_label_encoder.pkl\", 'wb'))\n",
    "#pickle.dump(clean_text, open(\"../models/sentiment_analyzer_test_preprocessing.pkl\", 'wb'))\n",
    "#pickle.dump(clf, open(\"../models/sentiment_analyzer_multinomialNB.pkl\", 'wb'))\n",
    "pickle.dump(predict, open(\"../models/sentiment_analyzer_lr.pkl\", 'wb'))"
   ]
  }
 ],
 "metadata": {
  "kernelspec": {
   "display_name": "venv",
   "language": "python",
   "name": "python3"
  },
  "language_info": {
   "codemirror_mode": {
    "name": "ipython",
    "version": 3
   },
   "file_extension": ".py",
   "mimetype": "text/x-python",
   "name": "python",
   "nbconvert_exporter": "python",
   "pygments_lexer": "ipython3",
   "version": "3.11.4"
  },
  "orig_nbformat": 4
 },
 "nbformat": 4,
 "nbformat_minor": 2
}
